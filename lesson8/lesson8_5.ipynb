{
 "cells": [
  {
   "cell_type": "code",
   "execution_count": null,
   "id": "e6112b54",
   "metadata": {},
   "outputs": [
    {
     "name": "stdout",
     "output_type": "stream",
     "text": [
      "Hello! 您好\n"
     ]
    }
   ],
   "source": [
    "# 型別提示(type hint)\n",
    "def say_hello():\n",
    "    print(\"Hello! 您好\")\n",
    "\n",
    "say_hello()"
   ]
  },
  {
   "cell_type": "code",
   "execution_count": 2,
   "id": "fa24dfa6",
   "metadata": {},
   "outputs": [
    {
     "name": "stdout",
     "output_type": "stream",
     "text": [
      "Robert! 您好\n"
     ]
    }
   ],
   "source": [
    "def say_hello(name):\n",
    "    print(f\"{name}! 您好\")\n",
    "\n",
    "say_hello(\"Robert\")"
   ]
  },
  {
   "cell_type": "code",
   "execution_count": 3,
   "id": "d84f8631",
   "metadata": {},
   "outputs": [
    {
     "name": "stdout",
     "output_type": "stream",
     "text": [
      "Robert! 您好\n"
     ]
    }
   ],
   "source": [
    "def say_hello(name:str)->str:\n",
    "    return f\"{name}! 您好\"\n",
    "\n",
    "print(say_hello(\"Robert\"))"
   ]
  },
  {
   "cell_type": "code",
   "execution_count": 4,
   "id": "6551bcb9",
   "metadata": {},
   "outputs": [],
   "source": [
    "name:str = \"robert\"\n",
    "age:int = 45"
   ]
  }
 ],
 "metadata": {
  "kernelspec": {
   "display_name": "base",
   "language": "python",
   "name": "python3"
  },
  "language_info": {
   "codemirror_mode": {
    "name": "ipython",
    "version": 3
   },
   "file_extension": ".py",
   "mimetype": "text/x-python",
   "name": "python",
   "nbconvert_exporter": "python",
   "pygments_lexer": "ipython3",
   "version": "3.13.2"
  }
 },
 "nbformat": 4,
 "nbformat_minor": 5
}

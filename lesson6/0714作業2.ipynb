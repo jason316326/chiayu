{
 "cells": [
  {
   "cell_type": "code",
   "execution_count": null,
   "id": "d84d1e49",
   "metadata": {},
   "outputs": [],
   "source": [
    "# 建立一個空串列，用來存放因數\n",
    "factors = []\n",
    "\n",
    "# 從1到num逐一檢查\n",
    "for i in range(1, num + 1):\n",
    "    if num % i == 0:  # 如果 i 能整除 num\n",
    "        factors.append(i)\n",
    "\n",
    "# 印出結果\n",
    "print(f\"{num} 的因數有：{factors}\")"
   ]
  },
  {
   "cell_type": "code",
   "execution_count": 2,
   "id": "a2d8d02e",
   "metadata": {},
   "outputs": [
    {
     "name": "stdout",
     "output_type": "stream",
     "text": [
      "97 的因數有：[1, 97]\n"
     ]
    }
   ],
   "source": [
    "num = int(input(\"請輸入整數:\"))\n",
    "factors = []\n",
    "\n",
    "for i in range(1, num + 1):\n",
    "    if num % i == 0:\n",
    "        factors.append(i)\n",
    "\n",
    "print(f\"{num} 的因數有：{factors}\")"
   ]
  }
 ],
 "metadata": {
  "kernelspec": {
   "display_name": "base",
   "language": "python",
   "name": "python3"
  },
  "language_info": {
   "codemirror_mode": {
    "name": "ipython",
    "version": 3
   },
   "file_extension": ".py",
   "mimetype": "text/x-python",
   "name": "python",
   "nbconvert_exporter": "python",
   "pygments_lexer": "ipython3",
   "version": "3.13.2"
  }
 },
 "nbformat": 4,
 "nbformat_minor": 5
}

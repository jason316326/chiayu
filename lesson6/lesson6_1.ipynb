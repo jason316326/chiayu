{
 "cells": [
  {
   "cell_type": "code",
   "execution_count": null,
   "id": "adfc5e2f",
   "metadata": {},
   "outputs": [],
   "source": [
    "try:\n",
    "    height = float(input(\"請輸入身高(120-250(cm))\"))\n",
    "    if 120 <= height <= 250:\n",
    "        print(\"  您的身高為:\",height,\"cm\")\n",
    "    else:\n",
    "        raise Exception(\"身高數字需在120~250(cm)內\")\n",
    "    weight = float(input(\"請輸入體重(30~200(kg))\"))\n",
    "    if 30 <= weight <= 200:\n",
    "        print(\"  您的體重為:\",weight,\"kg\")\n",
    "    else:\n",
    "        raise Exception(\"體重數字需在30~200(kg)內\")\n",
    "except ValueError as e:\n",
    "    print(\"格式錯誤\",e)\n",
    "except Exception as e:\n",
    "    print(e)\n",
    "else:\n",
    "    BMI = weight / (height / 100) ** 2\n",
    "    print(\"👉您的BMI為:\",round(BMI,ndigits = 1),\"(kg/m²)\") \n",
    "finally:\n",
    "    print(\"～應用程式結束～\")"
   ]
  },
  {
   "cell_type": "code",
   "execution_count": 3,
   "id": "d2604268",
   "metadata": {},
   "outputs": [
    {
     "name": "stdout",
     "output_type": "stream",
     "text": [
      "您的身高為: 170.0 cm\n",
      "您的體重為: 60.0 kg\n",
      "👉您的BMI為: 20.8 (kg/m²)\n",
      "～應用程式結束～\n"
     ]
    }
   ],
   "source": [
    "try:\n",
    "    height = float(input(\"請輸入身高(120-250(cm))\"))\n",
    "    if not(120 <= height <= 250):   #not 改變True 和 False 程式區塊\n",
    "        raise Exception(\"身高數字需在120~250(cm)內\")\n",
    "     \n",
    "    weight = float(input(\"請輸入體重(30~200(kg))\"))\n",
    "    if not(30 <= weight <= 200):\n",
    "        raise Exception(\"體重數字需在30~200(kg)內\")\n",
    "    \n",
    "    print(\"您的身高為:\",height,\"cm\")\n",
    "    print(\"您的體重為:\",weight,\"kg\")\n",
    "        \n",
    "except ValueError as e:\n",
    "    print(\"格式錯誤\",e)\n",
    "except Exception as e:\n",
    "    print(e)\n",
    "else:\n",
    "    BMI = weight / (height / 100) ** 2\n",
    "    print(\"👉您的BMI為:\",round(BMI,ndigits = 1),\"(kg/m²)\") \n",
    "finally:\n",
    "    print(\"～應用程式結束～\")"
   ]
  },
  {
   "cell_type": "code",
   "execution_count": 24,
   "id": "4246e643",
   "metadata": {},
   "outputs": [
    {
     "name": "stdout",
     "output_type": "stream",
     "text": [
      "您的身高為: 178.0 cm\n",
      "您的體重為: 75.0 kg\n",
      "您的BMI為: 23.67\n",
      "您的BMI指數為: 正常範圍\n",
      "應用程式結束\n"
     ]
    }
   ],
   "source": [
    "try:\n",
    "    height = float(input(\"請輸入身高(120-250(cm))\"))\n",
    "    if not(120 <= height <= 250):   \n",
    "        raise Exception(\"身高數字需在120~250(cm)內\")\n",
    "     \n",
    "    weight = float(input(\"請輸入體重(30~200(kg))\"))\n",
    "    if not(30 <= weight <= 200):\n",
    "        raise Exception(\"體重數字需在30~200(kg)內\")\n",
    "\n",
    "    BMI = weight / (height / 100) ** 2\n",
    "   \n",
    "    if  BMI >= 35:    \n",
    "        grade = '重度肥胖'\n",
    "    elif BMI > 30:   \n",
    "        grade = '中度肥胖'\n",
    "    elif BMI > 27:   \n",
    "        grade = '輕度肥胖'\n",
    "    elif BMI >= 24:  \n",
    "        grade = '過重'\n",
    "    elif 18.5 <= BMI<= 24:\n",
    "        grade ='正常範圍'\n",
    "    else:               \n",
    "        grade = '過輕'\n",
    "   \n",
    "    print(\"您的身高為:\",height,\"cm\")\n",
    "    print(\"您的體重為:\",weight,\"kg\")\n",
    "    print(\"您的BMI為:\",round(BMI,2)) \n",
    "    print(\"您的BMI指數為:\",grade)\n",
    "           \n",
    "except ValueError as e:\n",
    "    print(\"格式錯誤\",e)\n",
    "except Exception as e:\n",
    "    print(e)\n",
    "\n",
    "   \n",
    "finally:\n",
    "    print(\"應用程式結束\")"
   ]
  }
 ],
 "metadata": {
  "kernelspec": {
   "display_name": "base",
   "language": "python",
   "name": "python3"
  },
  "language_info": {
   "codemirror_mode": {
    "name": "ipython",
    "version": 3
   },
   "file_extension": ".py",
   "mimetype": "text/x-python",
   "name": "python",
   "nbconvert_exporter": "python",
   "pygments_lexer": "ipython3",
   "version": "3.13.2"
  }
 },
 "nbformat": 4,
 "nbformat_minor": 5
}

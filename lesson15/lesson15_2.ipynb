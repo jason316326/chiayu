{
 "cells": [
  {
   "cell_type": "code",
   "execution_count": 2,
   "id": "6642335a",
   "metadata": {},
   "outputs": [
    {
     "data": {
      "text/plain": [
       "array([ 0, 10, 20, 30, 40, 50, 60, 70, 80, 90])"
      ]
     },
     "execution_count": 2,
     "metadata": {},
     "output_type": "execute_result"
    }
   ],
   "source": [
    "import numpy as np\n",
    "arr = np.arange(10) * 10\n",
    "arr"
   ]
  },
  {
   "cell_type": "code",
   "execution_count": 5,
   "id": "778d5459",
   "metadata": {},
   "outputs": [
    {
     "data": {
      "text/plain": [
       "array([50, 60, 70, 80, 90])"
      ]
     },
     "execution_count": 5,
     "metadata": {},
     "output_type": "execute_result"
    }
   ],
   "source": [
    "#索引\n",
    "arr[1]\n",
    "\n",
    "#slice\n",
    "arr[:5] #前5個\n",
    "arr[-5:]#最後5個"
   ]
  },
  {
   "cell_type": "code",
   "execution_count": 7,
   "id": "e04a5a74",
   "metadata": {},
   "outputs": [
    {
     "data": {
      "text/plain": [
       "array([[ 67,  62,  76,  64,  93],\n",
       "       [ 58,  58,  85,  53,  79],\n",
       "       [ 87,  70,  99,  84,  55],\n",
       "       [ 70,  92,  74,  62,  52],\n",
       "       [ 91,  81,  58, 100,  79],\n",
       "       [ 71,  67,  68,  62,  93],\n",
       "       [ 94,  86,  86,  61,  66],\n",
       "       [ 82, 100,  90,  80,  58],\n",
       "       [ 54,  70,  80,  61,  78],\n",
       "       [ 55,  60,  53,  68,  74],\n",
       "       [ 66,  74,  73,  72,  80],\n",
       "       [ 66,  65,  83,  80,  73],\n",
       "       [ 73,  93,  86,  98,  85],\n",
       "       [ 93,  95,  73,  96,  50],\n",
       "       [ 65,  53,  65,  86,  97],\n",
       "       [ 99,  53,  88,  97,  54],\n",
       "       [ 66,  78,  52,  86,  99],\n",
       "       [ 62,  56,  57,  54,  79],\n",
       "       [ 61,  50,  56,  77,  54],\n",
       "       [ 98,  87,  79,  68,  84],\n",
       "       [ 72,  78,  87,  59, 100],\n",
       "       [ 98,  74,  77,  91,  96],\n",
       "       [ 56,  86,  51,  54,  95],\n",
       "       [ 83,  67,  81,  78,  87],\n",
       "       [ 91,  70,  68,  55,  75],\n",
       "       [ 63,  96,  69,  79,  96],\n",
       "       [ 72,  51,  81,  55,  68],\n",
       "       [ 79, 100,  63,  67,  92],\n",
       "       [ 70,  87,  82,  84,  95],\n",
       "       [ 95,  95,  82,  77,  61],\n",
       "       [ 60,  93,  78,  85,  96],\n",
       "       [ 60,  82,  84,  59,  56],\n",
       "       [ 91,  52,  95,  79,  64],\n",
       "       [ 51,  86,  89,  96,  76],\n",
       "       [ 58,  50,  56,  65,  70],\n",
       "       [ 52,  73,  57,  98,  84],\n",
       "       [ 97,  83,  77,  78,  54],\n",
       "       [ 64,  93,  53,  68,  55],\n",
       "       [ 62,  89,  78,  88,  50],\n",
       "       [ 70,  53,  94,  87,  63],\n",
       "       [ 54,  75,  56,  57,  75],\n",
       "       [ 95,  55,  97,  92,  95],\n",
       "       [ 60,  59,  65,  52,  58],\n",
       "       [100,  86,  51,  79,  50],\n",
       "       [ 87,  68,  58,  96,  51],\n",
       "       [ 95,  52,  52,  81,  85],\n",
       "       [ 54,  80,  84,  80,  68],\n",
       "       [ 60,  62,  77,  84,  87],\n",
       "       [ 62,  72,  96,  98,  78],\n",
       "       [ 89,  66,  63,  96,  77]], dtype=int32)"
      ]
     },
     "execution_count": 7,
     "metadata": {},
     "output_type": "execute_result"
    }
   ],
   "source": [
    "scores = np.random.randint(50,101, size=(50, 5))\n",
    "scores"
   ]
  },
  {
   "cell_type": "code",
   "execution_count": 13,
   "id": "aa41eae0",
   "metadata": {},
   "outputs": [
    {
     "data": {
      "text/plain": [
       "array([[67, 62, 76, 64, 93]], dtype=int32)"
      ]
     },
     "execution_count": 13,
     "metadata": {},
     "output_type": "execute_result"
    }
   ],
   "source": [
    "#第一位學生的分數\n",
    "scores[0] #(5,)\n",
    "scores[0,:] #(5,)\n",
    "scores[0:1,:] #(1, 5)"
   ]
  },
  {
   "cell_type": "code",
   "execution_count": 8,
   "id": "87afd454",
   "metadata": {},
   "outputs": [
    {
     "data": {
      "text/plain": [
       "array([76, 85, 99, 74, 58, 68, 86, 90, 80, 53, 73, 83, 86, 73, 65, 88, 52,\n",
       "       57, 56, 79, 87, 77, 51, 81, 68, 69, 81, 63, 82, 82, 78, 84, 95, 89,\n",
       "       56, 57, 77, 53, 78, 94, 56, 97, 65, 51, 58, 52, 84, 77, 96, 63],\n",
       "      dtype=int32)"
      ]
     },
     "execution_count": 8,
     "metadata": {},
     "output_type": "execute_result"
    }
   ],
   "source": [
    "#第1科分數\n",
    "scores[:,0]\n",
    "scores[:,1]\n",
    "scores[:,2]"
   ]
  },
  {
   "cell_type": "code",
   "execution_count": 9,
   "id": "29f7684f",
   "metadata": {},
   "outputs": [
    {
     "data": {
      "text/plain": [
       "array([[67, 62, 76],\n",
       "       [58, 58, 85],\n",
       "       [87, 70, 99],\n",
       "       [70, 92, 74],\n",
       "       [91, 81, 58]], dtype=int32)"
      ]
     },
     "execution_count": 9,
     "metadata": {},
     "output_type": "execute_result"
    }
   ],
   "source": [
    "#前5位學生\n",
    "scores[:5]\n",
    "#前5位學生,前3個分數\n",
    "scores[:5,:3]"
   ]
  },
  {
   "cell_type": "code",
   "execution_count": 10,
   "id": "98cf14b9",
   "metadata": {},
   "outputs": [
    {
     "data": {
      "text/plain": [
       "array([76, 85, 99, 74, 58, 68, 86, 90, 80, 53, 73, 83, 86, 73, 65, 88, 52,\n",
       "       57, 56, 79, 87, 77, 51, 81, 68, 69, 81, 63, 82, 82, 78, 84, 95, 89,\n",
       "       56, 57, 77, 53, 78, 94, 56, 97, 65, 51, 58, 52, 84, 77, 96, 63],\n",
       "      dtype=int32)"
      ]
     },
     "execution_count": 10,
     "metadata": {},
     "output_type": "execute_result"
    }
   ],
   "source": [
    "#第1科分數\n",
    "scores[:,0]\n",
    "scores[:,1]\n",
    "scores[:,2]"
   ]
  },
  {
   "cell_type": "code",
   "execution_count": 11,
   "id": "a6797712",
   "metadata": {},
   "outputs": [
    {
     "data": {
      "text/plain": [
       "array([362, 333, 395, 350, 409, 361, 393, 410, 343, 310, 365, 367, 435,\n",
       "       407, 366, 391, 381, 308, 298, 416, 396, 436, 342, 396, 359, 403,\n",
       "       327, 401, 418, 410, 412, 341, 381, 398, 299, 364, 389, 333, 367,\n",
       "       367, 317, 434, 294, 366, 360, 365, 366, 370, 406, 391], dtype=int32)"
      ]
     },
     "execution_count": 11,
     "metadata": {},
     "output_type": "execute_result"
    }
   ],
   "source": [
    "#ndarray可以陣列運算\n",
    "total = scores[:,0] + scores[:,1] + scores[:,2] + scores[:,3] + scores[:,4]\n",
    "total"
   ]
  },
  {
   "cell_type": "code",
   "execution_count": 12,
   "id": "eb5c27a9",
   "metadata": {},
   "outputs": [
    {
     "data": {
      "text/plain": [
       "array([72.4, 66.6, 79. , 70. , 81.8, 72.2, 78.6, 82. , 68.6, 62. , 73. ,\n",
       "       73.4, 87. , 81.4, 73.2, 78.2, 76.2, 61.6, 59.6, 83.2, 79.2, 87.2,\n",
       "       68.4, 79.2, 71.8, 80.6, 65.4, 80.2, 83.6, 82. , 82.4, 68.2, 76.2,\n",
       "       79.6, 59.8, 72.8, 77.8, 66.6, 73.4, 73.4, 63.4, 86.8, 58.8, 73.2,\n",
       "       72. , 73. , 73.2, 74. , 81.2, 78.2])"
      ]
     },
     "execution_count": 12,
     "metadata": {},
     "output_type": "execute_result"
    }
   ],
   "source": [
    "total / 5"
   ]
  },
  {
   "cell_type": "code",
   "execution_count": 14,
   "id": "e251bc52",
   "metadata": {},
   "outputs": [
    {
     "data": {
      "text/plain": [
       "array([72.4, 66.6, 79. , 70. , 81.8, 72.2, 78.6, 82. , 68.6, 62. , 73. ,\n",
       "       73.4, 87. , 81.4, 73.2, 78.2, 76.2, 61.6, 59.6, 83.2, 79.2, 87.2,\n",
       "       68.4, 79.2, 71.8, 80.6, 65.4, 80.2, 83.6, 82. , 82.4, 68.2, 76.2,\n",
       "       79.6, 59.8, 72.8, 77.8, 66.6, 73.4, 73.4, 63.4, 86.8, 58.8, 73.2,\n",
       "       72. , 73. , 73.2, 74. , 81.2, 78.2])"
      ]
     },
     "execution_count": 14,
     "metadata": {},
     "output_type": "execute_result"
    }
   ],
   "source": [
    "#np內的function\n",
    "np.sum(scores,axis=1)\n",
    "np.mean(scores,axis=1)"
   ]
  },
  {
   "cell_type": "code",
   "execution_count": 15,
   "id": "3ae21d72",
   "metadata": {},
   "outputs": [
    {
     "data": {
      "text/plain": [
       "array([72.4, 66.6, 79. , 70. , 81.8, 72.2, 78.6, 82. , 68.6, 62. , 73. ,\n",
       "       73.4, 87. , 81.4, 73.2, 78.2, 76.2, 61.6, 59.6, 83.2, 79.2, 87.2,\n",
       "       68.4, 79.2, 71.8, 80.6, 65.4, 80.2, 83.6, 82. , 82.4, 68.2, 76.2,\n",
       "       79.6, 59.8, 72.8, 77.8, 66.6, 73.4, 73.4, 63.4, 86.8, 58.8, 73.2,\n",
       "       72. , 73. , 73.2, 74. , 81.2, 78.2])"
      ]
     },
     "execution_count": 15,
     "metadata": {},
     "output_type": "execute_result"
    }
   ],
   "source": [
    "#實體方法\n",
    "scores.sum(axis=1)\n",
    "scores.mean(axis=1)"
   ]
  }
 ],
 "metadata": {
  "kernelspec": {
   "display_name": "base",
   "language": "python",
   "name": "python3"
  },
  "language_info": {
   "codemirror_mode": {
    "name": "ipython",
    "version": 3
   },
   "file_extension": ".py",
   "mimetype": "text/x-python",
   "name": "python",
   "nbconvert_exporter": "python",
   "pygments_lexer": "ipython3",
   "version": "3.13.5"
  }
 },
 "nbformat": 4,
 "nbformat_minor": 5
}

{
 "cells": [
  {
   "cell_type": "code",
   "execution_count": null,
   "id": "9c8c3df2",
   "metadata": {},
   "outputs": [
    {
     "name": "stdout",
     "output_type": "stream",
     "text": [
      "學生總分是: 250\n"
     ]
    }
   ],
   "source": [
    "#學生總分為300\n",
    "#有些學生可以加分5%\n",
    "\n",
    "scores = int(input(\"請輸入學生分數(最高300):\"))\n",
    "is_add = input(\"學生是否符合加分條件?(y,n)\")\n",
    "\n",
    "if is_add == \"y\": #單項選擇\n",
    "    scores *= 1.05  #敘述式\n",
    "\n",
    "print(\"學生總分是:\", round(scores))   #內建函式"
   ]
  },
  {
   "cell_type": "code",
   "execution_count": 2,
   "id": "2d911af3",
   "metadata": {},
   "outputs": [
    {
     "name": "stdout",
     "output_type": "stream",
     "text": [
      "學生總分是: 300\n"
     ]
    }
   ],
   "source": [
    "#學生總分為300\n",
    "#有些學生可以加分5%\n",
    "\n",
    "scores = int(input(\"請輸入學生分數(最高300):\"))\n",
    "is_add = input(\"學生是否符合加分條件?(y,n)\")\n",
    "\n",
    "if is_add == \"y\": #單項選擇\n",
    "    scores *= 1.05\n",
    "    if scores > 300:     #兩個條件，巢狀判斷\n",
    "        scores = 300\n",
    "\n",
    "print(\"學生總分是:\", round(scores))"
   ]
  },
  {
   "cell_type": "code",
   "execution_count": null,
   "id": "70b0ee7e",
   "metadata": {},
   "outputs": [
    {
     "name": "stdout",
     "output_type": "stream",
     "text": [
      "總分不得超過300分\n",
      "應用程式結束\n"
     ]
    }
   ],
   "source": [
    "#學生總分為300\n",
    "#有些學生可以加分5%\n",
    "\n",
    "scores = int(input(\"請輸入學生分數(最高300):\"))\n",
    "if scores <= 300:         #分數不得超過300\n",
    "    is_add = input(\"學生是否符合加分條件?(y,n)\")\n",
    "\n",
    "    if is_add == \"y\": #單項選擇\n",
    "        scores *= 1.05\n",
    "        if scores > 300:\n",
    "            scores = 300\n",
    "\n",
    "    print(\"學生總分是:\", round(scores))\n",
    "else:                           #雙向選擇\n",
    "    print(\"總分不得超過300分\")\n",
    "\n",
    "print(\"應用程式結束\")"
   ]
  },
  {
   "cell_type": "code",
   "execution_count": null,
   "id": "13090ff3",
   "metadata": {},
   "outputs": [
    {
     "ename": "ValueError",
     "evalue": "invalid literal for int() with base 10: '350A'",
     "output_type": "error",
     "traceback": [
      "\u001b[31m---------------------------------------------------------------------------\u001b[39m",
      "\u001b[31mValueError\u001b[39m                                Traceback (most recent call last)",
      "\u001b[36mCell\u001b[39m\u001b[36m \u001b[39m\u001b[32mIn[5]\u001b[39m\u001b[32m, line 1\u001b[39m\n\u001b[32m----> \u001b[39m\u001b[32m1\u001b[39m money  = \u001b[38;5;28;43mint\u001b[39;49m\u001b[43m(\u001b[49m\u001b[38;5;28;43minput\u001b[39;49m\u001b[43m(\u001b[49m\u001b[33;43m\"\u001b[39;49m\u001b[33;43m請輸入金額\u001b[39;49m\u001b[33;43m\"\u001b[39;49m\u001b[43m)\u001b[49m\u001b[43m)\u001b[49m\n",
      "\u001b[31mValueError\u001b[39m: invalid literal for int() with base 10: '350A'"
     ]
    }
   ],
   "source": [
    "money  = int(input(\"請輸入金額\"))   #此種錯誤會閃退"
   ]
  },
  {
   "cell_type": "code",
   "execution_count": null,
   "id": "73e68b5d",
   "metadata": {},
   "outputs": [
    {
     "name": "stdout",
     "output_type": "stream",
     "text": [
      "格式錯誤\n",
      "應用程式結束\n"
     ]
    }
   ],
   "source": [
    "try: #try是檢查錯誤\n",
    "    money = int(input(\"請輸入金額:\"))\n",
    "except:\n",
    "    print(\"格式錯誤\")\n",
    "\n",
    "print(\"應用程式結束\")"
   ]
  },
  {
   "cell_type": "code",
   "execution_count": 7,
   "id": "8cb90584",
   "metadata": {},
   "outputs": [
    {
     "name": "stdout",
     "output_type": "stream",
     "text": [
      "格式錯誤\n",
      "應用程式結束\n"
     ]
    }
   ],
   "source": [
    "try:\n",
    "    money = int(input(\"請輸入金額:\"))\n",
    "except IndexError:\n",
    "    print(\"索引錯誤\")\n",
    "except ValueError:\n",
    "    print(\"格式錯誤\")\n",
    "except:\n",
    "    print(\"不知名的錯誤\")\n",
    "\n",
    "print(\"應用程式結束\")"
   ]
  },
  {
   "cell_type": "code",
   "execution_count": null,
   "id": "d6ed7dbd",
   "metadata": {},
   "outputs": [
    {
     "name": "stdout",
     "output_type": "stream",
     "text": [
      "格式錯誤 invalid literal for int() with base 10: '300A'\n",
      "應用程式結束\n"
     ]
    }
   ],
   "source": [
    "try:    #可以偵測錯誤不閃退\n",
    "    money = int(input(\"請輸入金額:\"))\n",
    "except IndexError as e:#as用於顯示 後面設定的文字或代碼  #指定特定的exception\n",
    "    print(\"索引錯誤\",e)\n",
    "except ValueError as e:\n",
    "    print(\"格式錯誤\", e)\n",
    "except:        #處理所有的exception\n",
    "    print(\"不知名的錯誤\")\n",
    "\n",
    "print(\"應用程式結束\")"
   ]
  },
  {
   "cell_type": "code",
   "execution_count": null,
   "id": "27ad0338",
   "metadata": {},
   "outputs": [
    {
     "name": "stdout",
     "output_type": "stream",
     "text": [
      "沒有出現錯誤\n",
      "結束internet連線\n",
      "應用程式結束\n"
     ]
    }
   ],
   "source": [
    "try:                                    #try一定在最前面，finally一定在最後\n",
    "    money = int(input(\"請輸入金額:\"))\n",
    "except IndexError as e:\n",
    "    print(\"索引錯誤\",e)\n",
    "except ValueError as error:\n",
    "    print(\"格式錯誤\", error)\n",
    "except:\n",
    "    print(\"不知名的錯誤\")\n",
    "else:\n",
    "    print(\"沒有出現錯誤\")\n",
    "finally:                       #一定執行\n",
    "    print(\"結束internet連線\")\n",
    "\n",
    "print(\"應用程式結束\")      "
   ]
  },
  {
   "cell_type": "code",
   "execution_count": 10,
   "id": "da865c7a",
   "metadata": {},
   "outputs": [
    {
     "name": "stdout",
     "output_type": "stream",
     "text": [
      "金額是: 100\n",
      "應用程式結束\n"
     ]
    }
   ],
   "source": [
    "try:\n",
    "    money = int(input(\"請輸入金額:\"))\n",
    "    print(\"金額是:\",money)\n",
    "except:\n",
    "    print(\"格式錯誤\")\n",
    "\n",
    "print(\"應用程式結束\")"
   ]
  }
 ],
 "metadata": {
  "kernelspec": {
   "display_name": "base",
   "language": "python",
   "name": "python3"
  },
  "language_info": {
   "codemirror_mode": {
    "name": "ipython",
    "version": 3
   },
   "file_extension": ".py",
   "mimetype": "text/x-python",
   "name": "python",
   "nbconvert_exporter": "python",
   "pygments_lexer": "ipython3",
   "version": "3.13.2"
  }
 },
 "nbformat": 4,
 "nbformat_minor": 5
}

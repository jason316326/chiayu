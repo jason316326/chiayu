{
 "cells": [
  {
   "cell_type": "code",
   "execution_count": 1,
   "id": "26b4eb22",
   "metadata": {},
   "outputs": [
    {
     "name": "stdout",
     "output_type": "stream",
     "text": [
      "小於60\n"
     ]
    }
   ],
   "source": [
    "scores = 50\n",
    "\n",
    "if scores >= 60:\n",
    "    print(\"大於等於60\")\n",
    "else:\n",
    "    print(\"小於60\")"
   ]
  },
  {
   "cell_type": "code",
   "execution_count": 2,
   "id": "bbb82426",
   "metadata": {},
   "outputs": [
    {
     "name": "stdout",
     "output_type": "stream",
     "text": [
      "score > 80\n"
     ]
    }
   ],
   "source": [
    "# 60 <= scores <= 80\n",
    "# 2個條件,巢狀判斷\n",
    "\n",
    "scores = 85\n",
    "\n",
    "if scores >= 60:\n",
    "    if scores <= 80:\n",
    "        print(\"60 <= scores <= 80\")\n",
    "    else:\n",
    "        print(\"score > 80\")\n",
    "else:\n",
    "    print(\"scores < 60\")"
   ]
  },
  {
   "cell_type": "code",
   "execution_count": 3,
   "id": "f81b7952",
   "metadata": {},
   "outputs": [
    {
     "name": "stdout",
     "output_type": "stream",
     "text": [
      "60 <= scores <= 80\n"
     ]
    }
   ],
   "source": [
    "# 60 <= scores <= 80\n",
    "# 2個條件,邏輯運算子(and)\n",
    "scores = 75\n",
    "if scores >= 60 and scores <=80:\n",
    "    print(\"60 <= scores <= 80\")\n",
    "else:\n",
    "    print(\"scores可能大於80或小於60\")"
   ]
  },
  {
   "cell_type": "code",
   "execution_count": null,
   "id": "5d25ee16",
   "metadata": {},
   "outputs": [
    {
     "name": "stdout",
     "output_type": "stream",
     "text": [
      "60 <= scores <= 80\n"
     ]
    }
   ],
   "source": [
    "# 60 <= scores <= 80\n",
    "# 2個條件,邏輯運算子(or)\n",
    "scores = 75\n",
    "if scores < 60 or scores > 80:\n",
    "    print(\"scores可能大於80或小於60\")    \n",
    "else:\n",
    "    print(\"60 <= scores <= 80\")\n",
    "    "
   ]
  },
  {
   "cell_type": "code",
   "execution_count": null,
   "id": "c7f0de48",
   "metadata": {},
   "outputs": [
    {
     "name": "stdout",
     "output_type": "stream",
     "text": [
      "60 <= scores <= 80\n"
     ]
    }
   ],
   "source": [
    "# 60 <= scores <= 80\n",
    "# 2個條件,邏輯運算子(or)\n",
    "scores = 75\n",
    "if scores < 60 or scores > 80:\n",
    "    print(\"scores可能大於80或小於60\")    \n",
    "else:\n",
    "    print(\"60 <= scores <= 80\")\n",
    "    "
   ]
  },
  {
   "cell_type": "code",
   "execution_count": 48,
   "id": "95cd0605",
   "metadata": {},
   "outputs": [
    {
     "name": "stdout",
     "output_type": "stream",
     "text": [
      "身高為合理範圍內\n",
      "輸入為錯誤值\n",
      "體重為合理範圍內\n",
      "你的BMI值是 17\n",
      "應用程式結束\n"
     ]
    }
   ],
   "source": [
    "try:\n",
    "    height = float(input(\"請輸入身高CM(120~250CM):\"))\n",
    "    if  height >= 120 or height <= 250:\n",
    "        print(\"身高為合理範圍內\")\n",
    "        if height < 120 or height >250:\n",
    "            print(\"輸入為錯誤值\")\n",
    "    weight = float(input(\"請輸入體重KG(30~200KG):\"))\n",
    "    \n",
    "    if  weight >= 30 or weight <= 200:\n",
    "        print(\"體重為合理範圍內\")\n",
    "        BMI = weight / (height/100) **2\n",
    "        print(\"你的BMI值是\", round(BMI))\n",
    "\n",
    "   \n",
    "    \n",
    "except ValueError as e:\n",
    "    print(\"身高應高於120小於250\",e)\n",
    "\n",
    "    \n",
    "print(\"應用程式結束\")"
   ]
  },
  {
   "cell_type": "code",
   "execution_count": 56,
   "id": "21d58a94",
   "metadata": {},
   "outputs": [
    {
     "name": "stdout",
     "output_type": "stream",
     "text": [
      "身高 178.0\n",
      "體重 93.0\n",
      "你的BMI值是 29\n"
     ]
    }
   ],
   "source": [
    "try:\n",
    "    height = float(input(\"請輸入身高CM(120~250CM): \"))\n",
    "    if height >= 120 and height <= 250:\n",
    "        print(\"身高\",height)\n",
    "    else:\n",
    "        raise ValueError(\"身高輸入錯誤，請重新輸入\")\n",
    "\n",
    "    weight = float(input(\"請輸入體重KG(30~200KG): \"))\n",
    "    if weight >= 30 and weight <= 200:\n",
    "        print(\"體重\",weight)\n",
    "    else:\n",
    "        raise ValueError(\"體重輸入錯誤，請重新輸入\")\n",
    "\n",
    "    BMI = weight / (height / 100) ** 2\n",
    "    print(\"你的BMI值是\", round(BMI))\n",
    "\n",
    "except ValueError as e:\n",
    "    print(\"輸入錯誤：\", e)"
   ]
  },
  {
   "cell_type": "code",
   "execution_count": null,
   "id": "10791445",
   "metadata": {},
   "outputs": [],
   "source": []
  }
 ],
 "metadata": {
  "kernelspec": {
   "display_name": "base",
   "language": "python",
   "name": "python3"
  },
  "language_info": {
   "codemirror_mode": {
    "name": "ipython",
    "version": 3
   },
   "file_extension": ".py",
   "mimetype": "text/x-python",
   "name": "python",
   "nbconvert_exporter": "python",
   "pygments_lexer": "ipython3",
   "version": "3.13.2"
  }
 },
 "nbformat": 4,
 "nbformat_minor": 5
}

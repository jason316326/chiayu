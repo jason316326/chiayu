{
 "cells": [
  {
   "cell_type": "code",
   "execution_count": null,
   "id": "7359a754",
   "metadata": {},
   "outputs": [],
   "source": [
    "def my_func(my_)"
   ]
  }
 ],
 "metadata": {
  "kernelspec": {
   "display_name": "base",
   "language": "python",
   "name": "python3"
  },
  "language_info": {
   "name": "python",
   "version": "3.13.5"
  }
 },
 "nbformat": 4,
 "nbformat_minor": 5
}

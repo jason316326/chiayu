{
 "cells": [
  {
   "cell_type": "code",
   "execution_count": null,
   "id": "21992964",
   "metadata": {},
   "outputs": [],
   "source": [
    "#有一個name.txt的檔案,裏面有299個名字,每行一個名字\n",
    "#請寫一個程式,讀取這個檔案,並且將讀出每一個名字\n",
    "#並且將讀出的名字存入一個list中,然後印出這個list\n",
    "#如果檔案不存在,請印出\"檔案不存在\"\n",
    "# 嘗試讀取 names.txt 檔案，將每一行的名字存入 names list，並印出 list\n",
    "# 如果檔案不存在，則印出 \"檔案不存在\""
   ]
  }
 ],
 "metadata": {
  "kernelspec": {
   "display_name": "base",
   "language": "python",
   "name": "python3"
  },
  "language_info": {
   "name": "python",
   "version": "3.13.2"
  }
 },
 "nbformat": 4,
 "nbformat_minor": 5
}
